{
  "nbformat": 4,
  "nbformat_minor": 0,
  "metadata": {
    "kernelspec": {
      "display_name": "Python 3",
      "language": "python",
      "name": "python3"
    },
    "language_info": {
      "codemirror_mode": {
        "name": "ipython",
        "version": 3
      },
      "file_extension": ".py",
      "mimetype": "text/x-python",
      "name": "python",
      "nbconvert_exporter": "python",
      "pygments_lexer": "ipython3",
      "version": "3.7.3"
    },
    "colab": {
      "name": "puhatu_c1.ipynb",
      "provenance": [],
      "collapsed_sections": [],
      "include_colab_link": true
    }
  },
  "cells": [
    {
      "cell_type": "markdown",
      "metadata": {
        "id": "view-in-github",
        "colab_type": "text"
      },
      "source": [
        "<a href=\"https://colab.research.google.com/github/shivupoojar/Outlier-Detection-for-Puhatu-Monitoring-/blob/main/puhatu_c1.ipynb\" target=\"_parent\"><img src=\"https://colab.research.google.com/assets/colab-badge.svg\" alt=\"Open In Colab\"/></a>"
      ]
    },
    {
      "cell_type": "code",
      "metadata": {
        "colab": {
          "base_uri": "https://localhost:8080/"
        },
        "id": "aKX1PpCA1e_-",
        "outputId": "c0eb7359-702d-44b8-a321-3e31fa45bbd5"
      },
      "source": [
        "!pip install pyod\n"
      ],
      "execution_count": null,
      "outputs": [
        {
          "output_type": "stream",
          "name": "stdout",
          "text": [
            "Requirement already satisfied: pyod in /usr/local/lib/python3.7/dist-packages (0.9.5)\n",
            "Requirement already satisfied: scipy>=1.3.1 in /usr/local/lib/python3.7/dist-packages (from pyod) (1.4.1)\n",
            "Requirement already satisfied: numpy>=1.13 in /usr/local/lib/python3.7/dist-packages (from pyod) (1.19.5)\n",
            "Requirement already satisfied: scikit-learn>=0.20.0 in /usr/local/lib/python3.7/dist-packages (from pyod) (0.22.2.post1)\n",
            "Requirement already satisfied: statsmodels in /usr/local/lib/python3.7/dist-packages (from pyod) (0.10.2)\n",
            "Requirement already satisfied: joblib in /usr/local/lib/python3.7/dist-packages (from pyod) (1.0.1)\n",
            "Requirement already satisfied: numba>=0.35 in /usr/local/lib/python3.7/dist-packages (from pyod) (0.51.2)\n",
            "Requirement already satisfied: six in /usr/local/lib/python3.7/dist-packages (from pyod) (1.15.0)\n",
            "Requirement already satisfied: matplotlib in /usr/local/lib/python3.7/dist-packages (from pyod) (3.2.2)\n",
            "Requirement already satisfied: setuptools in /usr/local/lib/python3.7/dist-packages (from numba>=0.35->pyod) (57.4.0)\n",
            "Requirement already satisfied: llvmlite<0.35,>=0.34.0.dev0 in /usr/local/lib/python3.7/dist-packages (from numba>=0.35->pyod) (0.34.0)\n",
            "Requirement already satisfied: python-dateutil>=2.1 in /usr/local/lib/python3.7/dist-packages (from matplotlib->pyod) (2.8.2)\n",
            "Requirement already satisfied: kiwisolver>=1.0.1 in /usr/local/lib/python3.7/dist-packages (from matplotlib->pyod) (1.3.2)\n",
            "Requirement already satisfied: pyparsing!=2.0.4,!=2.1.2,!=2.1.6,>=2.0.1 in /usr/local/lib/python3.7/dist-packages (from matplotlib->pyod) (2.4.7)\n",
            "Requirement already satisfied: cycler>=0.10 in /usr/local/lib/python3.7/dist-packages (from matplotlib->pyod) (0.10.0)\n",
            "Requirement already satisfied: pandas>=0.19 in /usr/local/lib/python3.7/dist-packages (from statsmodels->pyod) (1.1.5)\n",
            "Requirement already satisfied: patsy>=0.4.0 in /usr/local/lib/python3.7/dist-packages (from statsmodels->pyod) (0.5.2)\n",
            "Requirement already satisfied: pytz>=2017.2 in /usr/local/lib/python3.7/dist-packages (from pandas>=0.19->statsmodels->pyod) (2018.9)\n"
          ]
        }
      ]
    },
    {
      "cell_type": "code",
      "metadata": {
        "colab": {
          "base_uri": "https://localhost:8080/"
        },
        "id": "WPJM4xXlDyq6",
        "outputId": "efd4fe0c-3723-4863-f790-faf9359ec166"
      },
      "source": [
        "!pwd\n",
        "%cd /content/drive/My Drive/Colab Notebooks/Outlier-Detection-for-Puhatu-Monitoring-\n",
        "%cd data/\n",
        "\n"
      ],
      "execution_count": null,
      "outputs": [
        {
          "output_type": "stream",
          "name": "stdout",
          "text": [
            "/content/drive/My Drive/Colab Notebooks/Outlier-Detection-for-Puhatu-Monitoring-/data\n",
            "/content/drive/My Drive/Colab Notebooks/Outlier-Detection-for-Puhatu-Monitoring-\n",
            "/content/drive/My Drive/Colab Notebooks/Outlier-Detection-for-Puhatu-Monitoring-/data\n",
            "puhatu_b1.csv    puhatu_b3.csv    puhatu_c2v3.csv  puhatu_l1v3.csv\n",
            "puhatu_b1v3.csv  puhatu_b3v3.csv  puhatu_c3.csv\n",
            "puhatu_b2.csv    puhatu_c1.csv    puhatu_c3v3.csv\n",
            "puhatu_b2v3.csv  puhatu_c2.csv    puhatu_l1.csv\n"
          ]
        }
      ]
    },
    {
      "cell_type": "code",
      "metadata": {
        "id": "UxZ0fSA3J_TQ"
      },
      "source": [
        "import pandas as pd\n",
        "import numpy as np \n",
        "%matplotlib inline\n",
        "import matplotlib.pyplot as plt\n",
        "import seaborn as sns\n",
        "import scipy.stats as stats\n",
        "\n",
        "import io\n",
        "df=pd.read_csv('puhatu_c1.csv',parse_dates=['time'],usecols=['time','wat_level_mH2o','dev_id','batt','rssi','snr','air_Pressure_mH2o','air_Temp_float','dist','wat_Pressure_mH2o','wat_Temp_float'])"
      ],
      "execution_count": null,
      "outputs": []
    },
    {
      "cell_type": "code",
      "metadata": {
        "id": "6_VFVCkpJ_Tr"
      },
      "source": [
        "df = df.apply(pd.to_numeric, errors='coerce')\n",
        "df['time'] = df['time'].astype('datetime64[ns]')\n",
        "df = df.drop(['dev_id'], axis=1)\n",
        "df.set_index('time',inplace=True)\n",
        "#df = df.dropna()\n",
        "\n",
        "#df['month']= df.index.month\n",
        "df['year']= df.index.year\n",
        "df = df.loc[df['year'] == 2021]\n",
        "df = df.head(2590)"
      ],
      "execution_count": null,
      "outputs": []
    },
    {
      "cell_type": "code",
      "metadata": {
        "id": "EsimyN7GJ_U9"
      },
      "source": [
        "import pandas as pd\n",
        "import numpy as np\n",
        "import matplotlib.pyplot as plt\n",
        "import seaborn as sns\n",
        "\n",
        "from sklearn.ensemble import IsolationForest\n",
        "from sklearn.preprocessing import LabelEncoder\n",
        "import scipy.stats as stats\n",
        "import plotly.express as px\n",
        "\n",
        "\n",
        "import matplotlib.font_manager\n",
        "from pyod.models.cblof import CBLOF\n",
        "# Import models\n",
        "from pyod.models.abod import ABOD\n",
        "from pyod.models.cblof import CBLOF\n",
        "#from pyod.models.feature_bagging import FeatureBagging\n",
        "from pyod.models.hbos import HBOS\n",
        "from pyod.models.iforest import IForest\n",
        "from pyod.models.knn import KNN\n",
        "from pyod.models.lof import LOF\n",
        "from sklearn.cluster import DBSCAN\n",
        "from pyod.models.ocsvm import OCSVM\n",
        "# reading the big mart sales training data\n",
        "from sklearn.preprocessing import MinMaxScaler\n",
        "\n",
        "from joblib import dump, load\n",
        "\n",
        "from sklearn.metrics import classification_report,accuracy_score"
      ],
      "execution_count": null,
      "outputs": []
    },
    {
      "cell_type": "code",
      "metadata": {
        "id": "gTaMYckmJ_VC"
      },
      "source": [
        "# min max scalling\n",
        "scaler = MinMaxScaler(feature_range=(0, 1))\n",
        "# df[['wat_Pressure_mH2o','air_Pressure_mH2o','air_Temp_float','wat_Temp_float','dist']] = scaler.fit_transform(df[['wat_Pressure_mH2o','air_Pressure_mH2o','air_Temp_float','wat_Temp_float','dist']])\n",
        "df[['wat_Pressure_mH2o','air_Pressure_mH2o','air_Temp_float','wat_Temp_float','dist']] = scaler.fit_transform(df[['wat_Pressure_mH2o','air_Pressure_mH2o','air_Temp_float','wat_Temp_float','dist']])\n",
        "# X = df[['wat_Pressure_mH2o','air_Pressure_mH2o','air_Temp_float','wat_Temp_float','dist']]"
      ],
      "execution_count": null,
      "outputs": []
    },
    {
      "cell_type": "code",
      "metadata": {
        "id": "ezdiFlGzJ_VE"
      },
      "source": [
        "# declare the outlier mechanisms\n",
        "import warnings\n",
        "warnings.filterwarnings('ignore')\n",
        "\n",
        "random_state = np.random.RandomState(42)\n",
        "outliers_fraction = 0.3\n",
        "# Define seven outlier detection tools to be compared\n",
        "classifiers = {\n",
        "     #    'Angle-based Outlier Detector (ABOD)': ABOD(contamination=outliers_fraction),\n",
        "     #    'Cluster-based Local Outlier Factor (CBLOF)':CBLOF(contamination=outliers_fraction,check_estimator=False, random_state=random_state),\n",
        "        #'Feature Bagging':FeatureBagging(LOF(n_neighbors=35),contamination=outliers_fraction,check_estimator=False,random_state=random_state),\n",
        "     #    'Histogram-base Outlier Detection (HBOS)': HBOS(contamination=outliers_fraction),\n",
        "        'Isolation Forest': IForest(n_estimators=35,contamination=outliers_fraction,random_state=random_state),\n",
        "     #    'K Nearest Neighbors (KNN)': KNN(contamination=outliers_fraction),\n",
        "      #  'Average KNN': KNN(method='mean',contamination=outliers_fraction),\n",
        "        'One Class SVM': OCSVM(contamination=outliers_fraction)\n",
        "          \n",
        "}"
      ],
      "execution_count": null,
      "outputs": []
    },
    {
      "cell_type": "code",
      "metadata": {
        "colab": {
          "base_uri": "https://localhost:8080/",
          "height": 1000
        },
        "id": "Zvgm6Yv8J_VF",
        "outputId": "161a11ee-6d89-49d2-bec8-74d9946f2200"
      },
      "source": [
        "from sklearn.metrics import precision_recall_curve\n",
        "from sklearn.metrics import accuracy_score\n",
        "from sklearn.metrics import confusion_matrix\n",
        "from sklearn.metrics import classification_report\n",
        "from pyod.utils.data import evaluate_print\n",
        "from pyod.utils.example import visualize\n",
        "from sklearn.model_selection import train_test_split\n",
        "from pyod.utils.data import evaluate_print\n",
        "\n",
        "\n",
        "xx , yy = np.meshgrid(np.linspace(0,1 , 200), np.linspace(0, 1, 200))\n",
        "import seaborn as sns\n",
        "for i, (clf_name, clf) in enumerate(classifiers.items()):\n",
        "    \n",
        "    xtrain, xtest = np.array_split(X,2)\n",
        "    print(xtrain.shape)\n",
        "    print(xtest.shape)\n",
        " #   xtrain, xtest, labels_train, labels_test = train_test_split(df, df['batt'], test_size=0.50, random_state=42)  \n",
        "    clf.fit(xtrain)\n",
        "    xtest1=xtest\n",
        "    \n",
        "   # prediction of a datapoint category outlier or inlier\n",
        "    prediction_labels_train = clf.predict(xtrain)\n",
        "    prediction_labels = clf.predict(xtest)\n",
        "    prediction_score_xtrain = clf.decision_function(xtrain)\n",
        "    prediction_score_xtest = clf.decision_function(xtest)\n",
        "  \n",
        "    \n",
        "    \n",
        "    y_true = prediction_labels_train\n",
        "    y_pred = prediction_labels\n",
        "    \n",
        "    n_inliers = len(y_pred) - np.count_nonzero(y_pred)\n",
        "    n_outliers = np.count_nonzero(y_pred == 1) \n",
        "\n",
        "#     dfx = xtest1\n",
        "    \n",
        "#     dfx['outlier'] = y_pred.tolist()\n",
        "\n",
        "    \n",
        "# evaluate and print the results\n",
        "    print(\"\\nOn Training Data:\")\n",
        "    evaluate_print(clf_name, y_true, prediction_score_xtrain)\n",
        "    print(\"\\nOn Test Data:\")\n",
        "    evaluate_print(clf_name, y_pred, prediction_score_xtest)\n",
        "   \n",
        "    print('################################## START ######################')\n",
        "    print('Accuracy Score: ', accuracy_score(y_true, y_pred),clf_name)\n",
        "    print('OUTLIERS : ',n_outliers,'INLIERS : ',n_inliers, clf_name)\n",
        "    \n",
        "    print(confusion_matrix(y_true, y_pred))\n",
        "\n",
        "    print(classification_report(y_true, y_pred))\n",
        "\n",
        "    # evaluate and print the results\n",
        "   # print(\"\\nOn Training Data:\")\n",
        "   # evaluate_print(clf_name, y_true, prediction_score_xtrain)\n",
        "   # print(\"\\nOn Test Data:\")\n",
        "  #  evaluate_print(clf_name, y_pred, prediction_score_xtest)\n",
        "    print(xtrain)\n",
        "    print(xtest) \n",
        "\n",
        "    print('################################## END ######################')\n",
        "    visualize(clf_name, xtrain, y_true, xtest, y_pred, prediction_score_xtrain,\n",
        "          prediction_score_xtest, show_figure=True, save_figure=False)"
      ],
      "execution_count": null,
      "outputs": [
        {
          "output_type": "stream",
          "name": "stdout",
          "text": [
            "(1295, 5)\n",
            "(1295, 5)\n",
            "\n",
            "On Training Data:\n",
            "Isolation Forest ROC:1.0, precision @ rank n:1.0\n",
            "\n",
            "On Test Data:\n",
            "Isolation Forest ROC:1.0, precision @ rank n:1.0\n",
            "################################## START ######################\n",
            "Accuracy Score:  0.2942084942084942 Isolation Forest\n",
            "OUTLIERS :  1283 INLIERS :  12 Isolation Forest\n",
            "[[  2 904]\n",
            " [ 10 379]]\n",
            "              precision    recall  f1-score   support\n",
            "\n",
            "           0       0.17      0.00      0.00       906\n",
            "           1       0.30      0.97      0.45       389\n",
            "\n",
            "    accuracy                           0.29      1295\n",
            "   macro avg       0.23      0.49      0.23      1295\n",
            "weighted avg       0.21      0.29      0.14      1295\n",
            "\n",
            "                     wat_Pressure_mH2o  ...      dist\n",
            "time                                    ...          \n",
            "2021-01-07 06:13:20           0.751616  ...  0.033253\n",
            "2021-01-07 06:13:20           0.751687  ...  0.033513\n",
            "2021-01-07 06:13:20           0.751760  ...  0.037046\n",
            "2021-01-07 06:13:20           0.751797  ...  0.032353\n",
            "2021-01-07 06:13:20           0.751916  ...  0.049089\n",
            "...                                ...  ...       ...\n",
            "2021-01-07 06:13:20           0.750103  ...  0.060052\n",
            "2021-01-07 06:13:20           0.750095  ...  0.059999\n",
            "2021-01-07 06:13:20           0.750084  ...  0.059734\n",
            "2021-01-07 06:13:20           0.750087  ...  0.059850\n",
            "2021-01-07 06:13:20           0.750081  ...  0.059732\n",
            "\n",
            "[1295 rows x 5 columns]\n",
            "                     wat_Pressure_mH2o  ...      dist\n",
            "time                                    ...          \n",
            "2021-01-07 06:13:20           0.750082  ...  0.060205\n",
            "2021-01-07 06:13:20           0.749997  ...  0.060038\n",
            "2021-01-07 06:13:20           0.750037  ...  0.059993\n",
            "2021-01-07 06:13:20           0.750036  ...  0.059592\n",
            "2021-01-07 06:13:20           0.750052  ...  0.059444\n",
            "...                                ...  ...       ...\n",
            "2021-05-03 00:00:00           0.258512  ...  0.127507\n",
            "2021-05-03 00:00:00           0.258512  ...  0.128103\n",
            "2021-05-03 00:00:00           0.258512  ...  0.127309\n",
            "2021-05-03 00:00:00           0.258512  ...  0.128302\n",
            "2021-08-26 17:46:40           0.258512  ...  0.128103\n",
            "\n",
            "[1295 rows x 5 columns]\n",
            "################################## END ######################\n"
          ]
        },
        {
          "output_type": "error",
          "ename": "ValueError",
          "evalue": "ignored",
          "traceback": [
            "\u001b[0;31m---------------------------------------------------------------------------\u001b[0m",
            "\u001b[0;31mValueError\u001b[0m                                Traceback (most recent call last)",
            "\u001b[0;32m<ipython-input-217-627d7ab640e9>\u001b[0m in \u001b[0;36m<module>\u001b[0;34m()\u001b[0m\n\u001b[1;32m     63\u001b[0m     \u001b[0mprint\u001b[0m\u001b[0;34m(\u001b[0m\u001b[0;34m'################################## END ######################'\u001b[0m\u001b[0;34m)\u001b[0m\u001b[0;34m\u001b[0m\u001b[0;34m\u001b[0m\u001b[0m\n\u001b[1;32m     64\u001b[0m     visualize(clf_name, xtrain, y_true, xtest, y_pred, prediction_score_xtrain,\n\u001b[0;32m---> 65\u001b[0;31m           prediction_score_xtest, show_figure=True, save_figure=False)\n\u001b[0m",
            "\u001b[0;32m/usr/local/lib/python3.7/dist-packages/pyod/utils/example.py\u001b[0m in \u001b[0;36mvisualize\u001b[0;34m(clf_name, X_train, y_train, X_test, y_test, y_train_pred, y_test_pred, show_figure, save_figure)\u001b[0m\n\u001b[1;32m     90\u001b[0m     \u001b[0;32mif\u001b[0m \u001b[0mX_train\u001b[0m\u001b[0;34m.\u001b[0m\u001b[0mshape\u001b[0m\u001b[0;34m[\u001b[0m\u001b[0;36m1\u001b[0m\u001b[0;34m]\u001b[0m \u001b[0;34m!=\u001b[0m \u001b[0;36m2\u001b[0m\u001b[0;34m:\u001b[0m\u001b[0;34m\u001b[0m\u001b[0;34m\u001b[0m\u001b[0m\n\u001b[1;32m     91\u001b[0m         raise ValueError(\"Input data has to be 2-d for visualization. The \"\n\u001b[0;32m---> 92\u001b[0;31m                          \"input data has {shape}.\".format(shape=X_train.shape))\n\u001b[0m\u001b[1;32m     93\u001b[0m \u001b[0;34m\u001b[0m\u001b[0m\n\u001b[1;32m     94\u001b[0m     \u001b[0mX_train_outliers\u001b[0m\u001b[0;34m,\u001b[0m \u001b[0mX_train_inliers\u001b[0m \u001b[0;34m=\u001b[0m \u001b[0mget_outliers_inliers\u001b[0m\u001b[0;34m(\u001b[0m\u001b[0mX_train\u001b[0m\u001b[0;34m,\u001b[0m \u001b[0my_train\u001b[0m\u001b[0;34m)\u001b[0m\u001b[0;34m\u001b[0m\u001b[0;34m\u001b[0m\u001b[0m\n",
            "\u001b[0;31mValueError\u001b[0m: Input data has to be 2-d for visualization. The input data has (1295, 5)."
          ]
        }
      ]
    }
  ]
}